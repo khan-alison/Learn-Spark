{
 "cells": [
  {
   "cell_type": "markdown",
   "metadata": {},
   "source": [
    "# A Tour of Spark tool set"
   ]
  },
  {
   "cell_type": "markdown",
   "metadata": {},
   "source": [
    "### Datasets: Type-Safe Structured APIs\n",
    "- The Dataset API is not available in Python and R, because those languages are dynamically typed.\n",
    "- The Dataset API gives users the ability to assign a Java/Scala class to the records within a DataFrame and manipulate it as a collection of typed objects.\n",
    "- The APIs available on Datasets are type-safe, meaning that you cannot accidentally view the objects in a Dataset as being of another class than the class you put in initially.\n",
    "- One final advantage is that when you call collect or take on a Dataset, it will collect objects of the proper type in your Dataset, not DataFrame Rows."
   ]
  },
  {
   "cell_type": "markdown",
   "metadata": {},
   "source": [
    "### Structured Streaming\n",
    "- High-level API for stream processing in Spark 2.2\n",
    "- You can take the same operations that you perform in batch mode using Spark’s structured APIs and run them in a streaming fashion.\n",
    "- Allows you to rapidly and quickly extract value out of streaming systems with virtually no code changes.\n"
   ]
  },
  {
   "cell_type": "code",
   "execution_count": 4,
   "metadata": {},
   "outputs": [],
   "source": [
    "from pyspark.sql import SparkSession\n",
    "\n",
    "spark = SparkSession.builder\\\n",
    "        .appName(\"Structured Streaming\")\\\n",
    "        .getOrCreate()\n",
    "\n",
    "spark.conf.set(\"spark.sql.shuffle.partitions\", \"5\")"
   ]
  },
  {
   "cell_type": "code",
   "execution_count": 6,
   "metadata": {},
   "outputs": [
    {
     "name": "stderr",
     "output_type": "stream",
     "text": [
      "                                                                                \r"
     ]
    }
   ],
   "source": [
    "\n",
    "staticDataFrame = spark.read.format(\"csv\") \\\n",
    "    .option(\"header\", \"true\") \\\n",
    "    .option(\"inferSchema\", \"true\") \\\n",
    "    .load(\"../data/retail-data/by-day/*.csv\")\n",
    "\n",
    "staticDataFrame.createOrReplaceTempView(\"retail_data\")\n",
    "staticSchema = staticDataFrame.schema"
   ]
  },
  {
   "cell_type": "code",
   "execution_count": 7,
   "metadata": {},
   "outputs": [],
   "source": [
    "from pyspark.sql.functions import window, column, desc, col"
   ]
  },
  {
   "cell_type": "code",
   "execution_count": 8,
   "metadata": {},
   "outputs": [
    {
     "name": "stderr",
     "output_type": "stream",
     "text": [
      "[Stage 16:===================================================>     (9 + 1) / 10]\r"
     ]
    },
    {
     "name": "stdout",
     "output_type": "stream",
     "text": [
      "+----------+--------------------+------------------+\n",
      "|CustomerId|              window|   sum(total_cost)|\n",
      "+----------+--------------------+------------------+\n",
      "|   14075.0|{2011-12-05 07:00...|316.78000000000003|\n",
      "|   18180.0|{2011-12-05 07:00...|            310.73|\n",
      "|   15358.0|{2011-12-05 07:00...| 830.0600000000003|\n",
      "|   15392.0|{2011-12-05 07:00...|304.40999999999997|\n",
      "|   15290.0|{2011-12-05 07:00...|263.02000000000004|\n",
      "+----------+--------------------+------------------+\n",
      "only showing top 5 rows\n",
      "\n"
     ]
    },
    {
     "name": "stderr",
     "output_type": "stream",
     "text": [
      "                                                                                \r"
     ]
    }
   ],
   "source": [
    "staticDataFrame\\\n",
    "  .selectExpr(\n",
    "    \"CustomerId\",\n",
    "    \"(UnitPrice * Quantity) as total_cost\",\n",
    "    \"InvoiceDate\")\\\n",
    "      .groupBy(col(\"CustomerId\"), window(col(\"InvoiceDate\"), \"1 day\"))\\\n",
    "        .sum(\"total_cost\")\\\n",
    "          .show(5)"
   ]
  },
  {
   "cell_type": "code",
   "execution_count": 11,
   "metadata": {},
   "outputs": [
    {
     "name": "stderr",
     "output_type": "stream",
     "text": [
      "                                                                                \r"
     ]
    },
    {
     "data": {
      "text/plain": [
       "True"
      ]
     },
     "execution_count": 11,
     "metadata": {},
     "output_type": "execute_result"
    }
   ],
   "source": [
    "streamingDataFrame = spark.readStream\\\n",
    "  .schema(staticSchema)\\\n",
    "    .option(\"maxFilePerTrigger\", 1)\\\n",
    "      .format(\"csv\")\\\n",
    "        .option(\"header\", \"true\")\\\n",
    "          .load(\"../data/retail-data/by-day/*.csv\")\n",
    "\n",
    "streamingDataFrame.isStreaming"
   ]
  },
  {
   "cell_type": "code",
   "execution_count": 12,
   "metadata": {},
   "outputs": [],
   "source": [
    "purchaseByCustomerPerHour = streamingDataFrame\\\n",
    "  .selectExpr(\n",
    "    \"CustomerId\",\n",
    "    \"(UnitPrice * Quantity) as total_cost\",\n",
    "    \"InvoiceDate\")\\\n",
    "      .groupBy(\n",
    "        col(\"CustomerId\"), window(col(\"InvoiceDate\"), \"1 day\"))\\\n",
    "        .sum(\"total_cost\")"
   ]
  },
  {
   "cell_type": "code",
   "execution_count": 14,
   "metadata": {},
   "outputs": [
    {
     "name": "stderr",
     "output_type": "stream",
     "text": [
      "24/08/05 09:33:10 WARN ResolveWriteToStream: Temporary checkpoint location created which is deleted normally when the query didn't fail: /private/var/folders/2y/q6ddzlk97yv4jfwcmb5byk8h0000gn/T/temporary-77dfe0eb-1407-42f1-b438-f4fd4a6ceaba. If it's required to delete it under any circumstances, please set spark.sql.streaming.forceDeleteTempCheckpointLocation to true. Important to know deleting temp checkpoint folder is best effort.\n",
      "24/08/05 09:33:10 WARN ResolveWriteToStream: spark.sql.adaptive.enabled is not supported in streaming DataFrames/Datasets and will be disabled.\n"
     ]
    },
    {
     "data": {
      "text/plain": [
       "<pyspark.sql.streaming.query.StreamingQuery at 0x107f1b260>"
      ]
     },
     "execution_count": 14,
     "metadata": {},
     "output_type": "execute_result"
    },
    {
     "name": "stderr",
     "output_type": "stream",
     "text": [
      "24/08/05 09:33:13 WARN FileStreamSource: Listed 305 file(s) in 2724 ms          \n",
      "24/08/05 09:33:31 WARN FileStreamSource: Listed 305 file(s) in 4664 ms          \n",
      "24/08/05 09:33:33 WARN FileStreamSource: Listed 305 file(s) in 2204 ms          \n",
      "24/08/05 09:33:36 WARN FileStreamSource: Listed 305 file(s) in 2660 ms          \n",
      "24/08/05 09:33:38 WARN FileStreamSource: Listed 305 file(s) in 2308 ms          \n",
      "24/08/05 09:33:40 WARN FileStreamSource: Listed 305 file(s) in 2341 ms          \n",
      "24/08/05 09:33:43 WARN FileStreamSource: Listed 305 file(s) in 2255 ms          \n",
      "24/08/05 09:33:45 WARN FileStreamSource: Listed 305 file(s) in 2399 ms          \n",
      "                                                                                \r"
     ]
    }
   ],
   "source": [
    "purchaseByCustomerPerHour.writeStream\\\n",
    "  .format(\"memory\")\\\n",
    "    .queryName(\"customer_purchases\")\\\n",
    "      .outputMode(\"complete\")\\\n",
    "        .start()"
   ]
  },
  {
   "cell_type": "code",
   "execution_count": 15,
   "metadata": {},
   "outputs": [
    {
     "name": "stderr",
     "output_type": "stream",
     "text": [
      "24/08/05 09:41:33 WARN FileStreamSource: Listed 305 file(s) in 2367 ms          \n",
      "[Stage 446:===============================================>     (271 + 8) / 305]\r"
     ]
    },
    {
     "name": "stdout",
     "output_type": "stream",
     "text": [
      "+----------+--------------------+------------------+\n",
      "|CustomerId|              window|   sum(total_cost)|\n",
      "+----------+--------------------+------------------+\n",
      "|   17450.0|{2011-09-20 07:00...|          71601.44|\n",
      "|      NULL|{2011-11-14 07:00...|          55316.08|\n",
      "|      NULL|{2011-11-07 07:00...|          42939.17|\n",
      "|      NULL|{2011-03-29 07:00...| 33521.39999999998|\n",
      "|      NULL|{2011-12-08 07:00...|31975.590000000007|\n",
      "|   18102.0|{2011-09-15 07:00...|31661.540000000005|\n",
      "|      NULL|{2010-12-21 07:00...|31347.479999999938|\n",
      "|   18102.0|{2011-10-21 07:00...|          29693.82|\n",
      "|   18102.0|{2010-12-07 07:00...|          25920.37|\n",
      "|   14646.0|{2011-10-20 07:00...|25833.559999999994|\n",
      "+----------+--------------------+------------------+\n",
      "only showing top 10 rows\n",
      "\n"
     ]
    },
    {
     "name": "stderr",
     "output_type": "stream",
     "text": [
      "                                                                                \r"
     ]
    },
    {
     "name": "stderr",
     "output_type": "stream",
     "text": [
      "24/08/05 09:41:42 WARN FileStreamSource: Listed 305 file(s) in 2133 ms\n",
      "[Stage 944:=====================================>              (220 + 11) / 305]\r"
     ]
    }
   ],
   "source": [
    "spark.sql(\"\"\"\n",
    "  SELECT * FROM customer_purchases\n",
    "  ORDER BY `sum(total_cost)` DESC\n",
    "  \"\"\")\\\n",
    "    .show(10)"
   ]
  },
  {
   "cell_type": "markdown",
   "metadata": {},
   "source": [
    "### Machine Learning and Advanced Analytics\n",
    "- MLlib allows for preprocessing, munging, training of models, and making predictions at scale on data.\n",
    "- You can even use models trained in MLlib to make predictions in Strucutred Streaming."
   ]
  },
  {
   "cell_type": "code",
   "execution_count": 16,
   "metadata": {},
   "outputs": [
    {
     "name": "stdout",
     "output_type": "stream",
     "text": [
      "root\n",
      " |-- InvoiceNo: string (nullable = true)\n",
      " |-- StockCode: string (nullable = true)\n",
      " |-- Description: string (nullable = true)\n",
      " |-- Quantity: integer (nullable = true)\n",
      " |-- InvoiceDate: timestamp (nullable = true)\n",
      " |-- UnitPrice: double (nullable = true)\n",
      " |-- CustomerID: double (nullable = true)\n",
      " |-- Country: string (nullable = true)\n",
      "\n"
     ]
    },
    {
     "name": "stderr",
     "output_type": "stream",
     "text": [
      "[Stage 944:=================================================>   (283 + 8) / 305]\r"
     ]
    },
    {
     "name": "stderr",
     "output_type": "stream",
     "text": [
      "                                                                                \r"
     ]
    }
   ],
   "source": [
    "staticDataFrame.printSchema()"
   ]
  },
  {
   "cell_type": "code",
   "execution_count": 18,
   "metadata": {},
   "outputs": [
    {
     "name": "stderr",
     "output_type": "stream",
     "text": [
      "                                                                                \r"
     ]
    },
    {
     "name": "stderr",
     "output_type": "stream",
     "text": [
      "                                                                                \r"
     ]
    }
   ],
   "source": [
    "from pyspark.sql.functions import date_format, col\n",
    "\n",
    "preppedDataFrame = staticDataFrame\\\n",
    "  .na.fill(0)\\\n",
    "    .withColumn(\"day_of_week\", date_format(col(\"InvoiceDate\"), \"EEE\"))\\\n",
    "      .coalesce(5)"
   ]
  },
  {
   "cell_type": "markdown",
   "metadata": {},
   "source": [
    "Split the data into training and test sets"
   ]
  },
  {
   "cell_type": "code",
   "execution_count": 19,
   "metadata": {},
   "outputs": [
    {
     "name": "stderr",
     "output_type": "stream",
     "text": [
      "                                                                                \r"
     ]
    },
    {
     "name": "stderr",
     "output_type": "stream",
     "text": [
      "                                                                                \r"
     ]
    }
   ],
   "source": [
    "\n",
    "trainDataFrame = preppedDataFrame\\\n",
    "    .where(\"InvoiceDate < '2011-07-01'\")\n",
    "testDataFrame = preppedDataFrame\\\n",
    "    .where(\"InvoiceDate >= '2011-07-01'\")"
   ]
  },
  {
   "cell_type": "code",
   "execution_count": 20,
   "metadata": {},
   "outputs": [
    {
     "name": "stderr",
     "output_type": "stream",
     "text": [
      "24/08/05 10:05:51 WARN FileStreamSource: Listed 305 file(s) in 3667 ms          \n",
      "                                                                                \r"
     ]
    },
    {
     "data": {
      "text/plain": [
       "296006"
      ]
     },
     "execution_count": 20,
     "metadata": {},
     "output_type": "execute_result"
    },
    {
     "name": "stderr",
     "output_type": "stream",
     "text": [
      "                                                                                \r"
     ]
    }
   ],
   "source": [
    "trainDataFrame.count()\n",
    "testDataFrame.count()"
   ]
  },
  {
   "cell_type": "code",
   "execution_count": 21,
   "metadata": {},
   "outputs": [
    {
     "name": "stderr",
     "output_type": "stream",
     "text": [
      "24/08/05 10:29:28 WARN FileStreamSource: Listed 305 file(s) in 2425 ms          \n",
      "                                                                                \r"
     ]
    }
   ],
   "source": [
    "from pyspark.ml.feature import StringIndexer\n",
    "indexer = StringIndexer()\\\n",
    "    .setInputCol(\"day_of_week\")\\\n",
    "    .setOutputCol(\"day_of_week_index\")"
   ]
  },
  {
   "cell_type": "code",
   "execution_count": null,
   "metadata": {},
   "outputs": [
    {
     "name": "stderr",
     "output_type": "stream",
     "text": [
      "[Stage 3678:========================================>           (237 + 8) / 305]\r"
     ]
    }
   ],
   "source": [
    "from pyspark.ml.feature import OneHotEncoder\n",
    "\n",
    "encoder = OneHotEncoder()\\\n",
    "  .setInputCol(\"day_of_week_index\")\\\n",
    "  .setOutputCol(\"day_of_week_encoded\")"
   ]
  },
  {
   "cell_type": "code",
   "execution_count": 23,
   "metadata": {},
   "outputs": [
    {
     "name": "stderr",
     "output_type": "stream",
     "text": [
      "[Stage 3739:=======================>                           (141 + 14) / 305]\r"
     ]
    },
    {
     "name": "stderr",
     "output_type": "stream",
     "text": [
      "                                                                                \r"
     ]
    }
   ],
   "source": [
    "from pyspark.ml.feature import VectorAssembler\n",
    "\n",
    "vectorAssembler = VectorAssembler()\\\n",
    "  .setInputCols([\"UnitPrice\", \"Quantity\", \"day_of_week_encoded\"])\\\n",
    "    .setOutputCol(\"features\")"
   ]
  },
  {
   "cell_type": "code",
   "execution_count": 24,
   "metadata": {},
   "outputs": [
    {
     "name": "stderr",
     "output_type": "stream",
     "text": [
      "[Stage 3868:==================================================> (297 + 8) / 305]\r"
     ]
    }
   ],
   "source": [
    "from pyspark.ml import Pipeline\n",
    "\n",
    "transformationPipeline = Pipeline()\\\n",
    "  .setStages([\n",
    "    indexer, encoder, vectorAssembler\n",
    "  ])"
   ]
  },
  {
   "cell_type": "code",
   "execution_count": 25,
   "metadata": {},
   "outputs": [
    {
     "name": "stderr",
     "output_type": "stream",
     "text": [
      "24/08/05 10:45:56 WARN FileStreamSource: Listed 305 file(s) in 2398 ms          \n",
      "24/08/05 10:46:01 WARN FileStreamSource: Listed 305 file(s) in 4045 ms          \n",
      "                                                                                \r"
     ]
    },
    {
     "data": {
      "text/plain": [
       "DataFrame[InvoiceNo: string, StockCode: string, Description: string, Quantity: int, InvoiceDate: timestamp, UnitPrice: double, CustomerID: double, Country: string, day_of_week: string, day_of_week_index: double, day_of_week_encoded: vector, features: vector]"
      ]
     },
     "execution_count": 25,
     "metadata": {},
     "output_type": "execute_result"
    },
    {
     "name": "stderr",
     "output_type": "stream",
     "text": [
      "                                                                                \r"
     ]
    }
   ],
   "source": [
    "fittedPipeline = transformationPipeline.fit(trainDataFrame)\n",
    "transformedTraining = fittedPipeline.transform(trainDataFrame)\n",
    "transformedTraining.cache()"
   ]
  },
  {
   "cell_type": "code",
   "execution_count": 27,
   "metadata": {},
   "outputs": [
    {
     "name": "stderr",
     "output_type": "stream",
     "text": [
      "                                                                                \r"
     ]
    },
    {
     "name": "stderr",
     "output_type": "stream",
     "text": [
      "                                                                                \r"
     ]
    }
   ],
   "source": [
    "from pyspark.ml.clustering import KMeans \n",
    "\n",
    "kmeans = KMeans()\\\n",
    "  .setK(20)\\\n",
    "    .setSeed(1)"
   ]
  },
  {
   "cell_type": "code",
   "execution_count": 28,
   "metadata": {},
   "outputs": [
    {
     "name": "stderr",
     "output_type": "stream",
     "text": [
      "24/08/05 10:54:08 WARN FileStreamSource: Listed 305 file(s) in 2803 ms          \n",
      "24/08/05 10:54:26 WARN InstanceBuilder: Failed to load implementation from:dev.ludovic.netlib.blas.JNIBLAS\n",
      "                                                                                \r"
     ]
    },
    {
     "name": "stderr",
     "output_type": "stream",
     "text": [
      "                                                                                \r"
     ]
    }
   ],
   "source": [
    "kmModel = kmeans.fit(transformedTraining)"
   ]
  },
  {
   "cell_type": "code",
   "execution_count": 31,
   "metadata": {},
   "outputs": [
    {
     "name": "stderr",
     "output_type": "stream",
     "text": [
      "                                                                                \r"
     ]
    },
    {
     "name": "stdout",
     "output_type": "stream",
     "text": [
      "75301118.84698008\n"
     ]
    },
    {
     "name": "stderr",
     "output_type": "stream",
     "text": [
      "24/08/05 11:03:40 WARN FileStreamSource: Listed 305 file(s) in 2067 ms          \n",
      "24/08/05 11:06:13 WARN FileStreamSource: Listed 305 file(s) in 2069 ms          \n",
      "[Stage 5509:===========================>                        (161 + 8) / 305]\r"
     ]
    }
   ],
   "source": [
    "transformedTest = fittedPipeline.transform(testDataFrame)\n",
    "training_cost = kmModel.summary.trainingCost\n",
    "print(training_cost)"
   ]
  },
  {
   "cell_type": "markdown",
   "metadata": {},
   "source": [
    "### Lower-Level APIs"
   ]
  },
  {
   "cell_type": "code",
   "execution_count": 32,
   "metadata": {},
   "outputs": [
    {
     "name": "stderr",
     "output_type": "stream",
     "text": [
      "                                                                                \r"
     ]
    },
    {
     "data": {
      "text/plain": [
       "DataFrame[_1: bigint]"
      ]
     },
     "execution_count": 32,
     "metadata": {},
     "output_type": "execute_result"
    },
    {
     "name": "stderr",
     "output_type": "stream",
     "text": [
      "24/08/05 11:18:23 WARN FileStreamSource: Listed 305 file(s) in 2187 ms          \n",
      "24/08/05 11:18:25 WARN FileStreamSource: Listed 305 file(s) in 2445 ms          \n",
      "24/08/05 11:18:31 WARN FileStreamSource: Listed 305 file(s) in 2543 ms          \n",
      "24/08/05 11:19:11 WARN FileStreamSource: Listed 305 file(s) in 2032 ms          \n",
      "24/08/05 11:19:17 WARN FileStreamSource: Listed 305 file(s) in 2520 ms          \n",
      "24/08/05 11:19:21 WARN FileStreamSource: Listed 305 file(s) in 2293 ms          \n",
      "24/08/05 11:19:24 WARN FileStreamSource: Listed 305 file(s) in 2699 ms          \n",
      "24/08/05 11:19:26 WARN FileStreamSource: Listed 305 file(s) in 2535 ms          \n",
      "24/08/05 11:21:34 WARN FileStreamSource: Listed 305 file(s) in 2150 ms          \n",
      "24/08/05 11:21:41 WARN FileStreamSource: Listed 305 file(s) in 2333 ms          \n",
      "24/08/05 11:21:54 WARN FileStreamSource: Listed 305 file(s) in 2306 ms          \n",
      "24/08/05 11:23:15 WARN FileStreamSource: Listed 305 file(s) in 2547 ms          \n",
      "24/08/05 11:23:24 WARN FileStreamSource: Listed 305 file(s) in 2483 ms          \n",
      "[Stage 6116:====================================>               (212 + 8) / 305]\r"
     ]
    }
   ],
   "source": [
    "from pyspark.sql import Row\n",
    "spark.sparkContext.parallelize([Row(1), Row(2), Row(3)]).toDF()"
   ]
  }
 ],
 "metadata": {
  "kernelspec": {
   "display_name": "venv",
   "language": "python",
   "name": "python3"
  },
  "language_info": {
   "codemirror_mode": {
    "name": "ipython",
    "version": 3
   },
   "file_extension": ".py",
   "mimetype": "text/x-python",
   "name": "python",
   "nbconvert_exporter": "python",
   "pygments_lexer": "ipython3",
   "version": "3.12.3"
  }
 },
 "nbformat": 4,
 "nbformat_minor": 2
}
