{
 "cells": [
  {
   "cell_type": "code",
   "execution_count": 2,
   "metadata": {
    "collapsed": true
   },
   "outputs": [
    {
     "name": "stdout",
     "output_type": "stream",
     "text": [
      "DONE\n"
     ]
    }
   ],
   "source": [
    "import time\n",
    "import pandas as pd\n",
    "import pytrends\n",
    "import datetime\n",
    "from pytrends.request import TrendReq\n",
    "from datetime import datetime, timedelta\n",
    "print(\"DONE\")"
   ]
  },
  {
   "cell_type": "code",
   "execution_count": 3,
   "outputs": [
    {
     "name": "stdout",
     "output_type": "stream",
     "text": [
      "DONE\n"
     ]
    }
   ],
   "source": [
    "# Keywords for video streaming\n",
    "keywords_video = [\"Netflix\", \"Disney+\", \"Hulu\", \"Amazon Prime Video\", \"Streaming Wars\", \"HBO Max\", \"Apple TV+\", \"Peacock\", \"Paramount+\"]\n",
    "\n",
    "# Keywords for music streaming\n",
    "keywords_music = [\"Spotify\", \"Apple Music\", \"Amazon Music\", \"YouTube Music\", \"Tidal\", \"Pandora\", \"SoundCloud\", \"Deezer\", \"Napster\"]\n",
    "\n",
    "all_items = keywords_video + keywords_music\n",
    "print(\"DONE\")"
   ],
   "metadata": {
    "collapsed": false
   }
  },
  {
   "cell_type": "code",
   "execution_count": 4,
   "outputs": [
    {
     "name": "stdout",
     "output_type": "stream",
     "text": [
      "Error fetching data for 'Netflix': The request failed: Google returned a response with code 429\n",
      "Error fetching data for 'Disney+': The request failed: Google returned a response with code 429\n",
      "Error fetching data for 'Hulu': The request failed: Google returned a response with code 429\n",
      "Error fetching data for 'Amazon Prime Video': The request failed: Google returned a response with code 429\n",
      "Error fetching data for 'Streaming Wars': The request failed: Google returned a response with code 429\n",
      "Error fetching data for 'HBO Max': The request failed: Google returned a response with code 429\n",
      "Error fetching data for 'Apple TV+': The request failed: Google returned a response with code 429\n",
      "Error fetching data for 'Peacock': The request failed: Google returned a response with code 429\n",
      "Error fetching data for 'Paramount+': The request failed: Google returned a response with code 429\n",
      "Error fetching data for 'Spotify': The request failed: Google returned a response with code 429\n",
      "Error fetching data for 'Apple Music': The request failed: Google returned a response with code 429\n",
      "Error fetching data for 'Amazon Music': The request failed: Google returned a response with code 429\n",
      "Error fetching data for 'YouTube Music': The request failed: Google returned a response with code 429\n",
      "Error fetching data for 'Tidal': The request failed: Google returned a response with code 429\n",
      "Error fetching data for 'Pandora': The request failed: Google returned a response with code 429\n",
      "Error fetching data for 'SoundCloud': The request failed: Google returned a response with code 429\n",
      "Error fetching data for 'Deezer': The request failed: Google returned a response with code 429\n",
      "Error fetching data for 'Napster': The request failed: Google returned a response with code 429\n",
      "No data was retrieved for the given keywords.\n"
     ]
    },
    {
     "ename": "NameError",
     "evalue": "name 'combined_df' is not defined",
     "output_type": "error",
     "traceback": [
      "\u001B[0;31m---------------------------------------------------------------------------\u001B[0m",
      "\u001B[0;31mNameError\u001B[0m                                 Traceback (most recent call last)",
      "Cell \u001B[0;32mIn[4], line 28\u001B[0m\n\u001B[1;32m     25\u001B[0m \u001B[38;5;28;01melse\u001B[39;00m:\n\u001B[1;32m     26\u001B[0m     \u001B[38;5;28mprint\u001B[39m(\u001B[38;5;124m\"\u001B[39m\u001B[38;5;124mNo data was retrieved for the given keywords.\u001B[39m\u001B[38;5;124m\"\u001B[39m)\n\u001B[0;32m---> 28\u001B[0m partial_cols \u001B[38;5;241m=\u001B[39m [col \u001B[38;5;28;01mfor\u001B[39;00m col \u001B[38;5;129;01min\u001B[39;00m \u001B[43mcombined_df\u001B[49m\u001B[38;5;241m.\u001B[39mcolumns \u001B[38;5;28;01mif\u001B[39;00m \u001B[38;5;124m'\u001B[39m\u001B[38;5;124misPartial\u001B[39m\u001B[38;5;124m'\u001B[39m \u001B[38;5;129;01min\u001B[39;00m col]\n\u001B[1;32m     29\u001B[0m combined_df \u001B[38;5;241m=\u001B[39m combined_df\u001B[38;5;241m.\u001B[39mdrop(columns\u001B[38;5;241m=\u001B[39mpartial_cols)\n\u001B[1;32m     31\u001B[0m combined_df\u001B[38;5;241m.\u001B[39mreset_index(inplace\u001B[38;5;241m=\u001B[39m\u001B[38;5;28;01mTrue\u001B[39;00m)\n",
      "\u001B[0;31mNameError\u001B[0m: name 'combined_df' is not defined"
     ]
    }
   ],
   "source": [
    "from pytrends.request import TrendReq\n",
    "import pandas as pd\n",
    "\n",
    "def get_weekly_data(keyword):\n",
    "    try:\n",
    "        pytrends = TrendReq()\n",
    "        pytrends.build_payload(kw_list=[keyword], timeframe='2018-06-01 2023-03-30',geo='CA')\n",
    "        df = pytrends.interest_over_time()\n",
    "        weekly_df = df.resample('W').sum()\n",
    "        return weekly_df\n",
    "    except Exception as e:\n",
    "        print(f\"Error fetching data for '{keyword}': {e}\")\n",
    "        return None\n",
    "\n",
    "kw_list= all_items\n",
    "data_frames = []\n",
    "\n",
    "for keyword in kw_list:\n",
    "    weekly_data = get_weekly_data(keyword)\n",
    "    if weekly_data is not None:\n",
    "        data_frames.append(weekly_data)\n",
    "\n",
    "if data_frames:\n",
    "    combined_df = pd.concat(data_frames, axis=1)\n",
    "else:\n",
    "    print(\"No data was retrieved for the given keywords.\")\n",
    "\n",
    "partial_cols = [col for col in combined_df.columns if 'isPartial' in col]\n",
    "combined_df = combined_df.drop(columns=partial_cols)\n",
    "\n",
    "combined_df.reset_index(inplace=True)\n",
    "combined_df.head()\n",
    "\n",
    "\n",
    "combined_df['date'] = pd.to_datetime(combined_df['date'])  # Convert the date column to datetime type\n",
    "combined_df.set_index('date', inplace=True)  # Set the date column as the index\n",
    "combined_df.to_csv(\"weekly_data.csv\")\n",
    "#Note: google only give us weekly data"
   ],
   "metadata": {
    "collapsed": false
   }
  },
  {
   "cell_type": "code",
   "execution_count": 13,
   "outputs": [
    {
     "ename": "TooManyRequestsError",
     "evalue": "The request failed: Google returned a response with code 429",
     "output_type": "error",
     "traceback": [
      "\u001B[0;31m---------------------------------------------------------------------------\u001B[0m",
      "\u001B[0;31mTooManyRequestsError\u001B[0m                      Traceback (most recent call last)",
      "Cell \u001B[0;32mIn[13], line 1\u001B[0m\n\u001B[0;32m----> 1\u001B[0m data \u001B[38;5;241m=\u001B[39m \u001B[43mpytrends\u001B[49m\u001B[38;5;241;43m.\u001B[39;49m\u001B[43minterest_over_time\u001B[49m\u001B[43m(\u001B[49m\u001B[43m)\u001B[49m\n\u001B[1;32m      2\u001B[0m \u001B[38;5;28mprint\u001B[39m(\u001B[38;5;124m\"\u001B[39m\u001B[38;5;124mXu hướng theo thời gian:\u001B[39m\u001B[38;5;124m\"\u001B[39m)\n\u001B[1;32m      3\u001B[0m \u001B[38;5;28mprint\u001B[39m(data\u001B[38;5;241m.\u001B[39mhead())\n",
      "File \u001B[0;32m~/Developer/DE/spark/practice_spark/venv/lib/python3.12/site-packages/pytrends/request.py:232\u001B[0m, in \u001B[0;36mTrendReq.interest_over_time\u001B[0;34m(self)\u001B[0m\n\u001B[1;32m    224\u001B[0m over_time_payload \u001B[38;5;241m=\u001B[39m {\n\u001B[1;32m    225\u001B[0m     \u001B[38;5;66;03m# convert to string as requests will mangle\u001B[39;00m\n\u001B[1;32m    226\u001B[0m     \u001B[38;5;124m'\u001B[39m\u001B[38;5;124mreq\u001B[39m\u001B[38;5;124m'\u001B[39m: json\u001B[38;5;241m.\u001B[39mdumps(\u001B[38;5;28mself\u001B[39m\u001B[38;5;241m.\u001B[39minterest_over_time_widget[\u001B[38;5;124m'\u001B[39m\u001B[38;5;124mrequest\u001B[39m\u001B[38;5;124m'\u001B[39m]),\n\u001B[1;32m    227\u001B[0m     \u001B[38;5;124m'\u001B[39m\u001B[38;5;124mtoken\u001B[39m\u001B[38;5;124m'\u001B[39m: \u001B[38;5;28mself\u001B[39m\u001B[38;5;241m.\u001B[39minterest_over_time_widget[\u001B[38;5;124m'\u001B[39m\u001B[38;5;124mtoken\u001B[39m\u001B[38;5;124m'\u001B[39m],\n\u001B[1;32m    228\u001B[0m     \u001B[38;5;124m'\u001B[39m\u001B[38;5;124mtz\u001B[39m\u001B[38;5;124m'\u001B[39m: \u001B[38;5;28mself\u001B[39m\u001B[38;5;241m.\u001B[39mtz\n\u001B[1;32m    229\u001B[0m }\n\u001B[1;32m    231\u001B[0m \u001B[38;5;66;03m# make the request and parse the returned json\u001B[39;00m\n\u001B[0;32m--> 232\u001B[0m req_json \u001B[38;5;241m=\u001B[39m \u001B[38;5;28;43mself\u001B[39;49m\u001B[38;5;241;43m.\u001B[39;49m\u001B[43m_get_data\u001B[49m\u001B[43m(\u001B[49m\n\u001B[1;32m    233\u001B[0m \u001B[43m    \u001B[49m\u001B[43murl\u001B[49m\u001B[38;5;241;43m=\u001B[39;49m\u001B[43mTrendReq\u001B[49m\u001B[38;5;241;43m.\u001B[39;49m\u001B[43mINTEREST_OVER_TIME_URL\u001B[49m\u001B[43m,\u001B[49m\n\u001B[1;32m    234\u001B[0m \u001B[43m    \u001B[49m\u001B[43mmethod\u001B[49m\u001B[38;5;241;43m=\u001B[39;49m\u001B[43mTrendReq\u001B[49m\u001B[38;5;241;43m.\u001B[39;49m\u001B[43mGET_METHOD\u001B[49m\u001B[43m,\u001B[49m\n\u001B[1;32m    235\u001B[0m \u001B[43m    \u001B[49m\u001B[43mtrim_chars\u001B[49m\u001B[38;5;241;43m=\u001B[39;49m\u001B[38;5;241;43m5\u001B[39;49m\u001B[43m,\u001B[49m\n\u001B[1;32m    236\u001B[0m \u001B[43m    \u001B[49m\u001B[43mparams\u001B[49m\u001B[38;5;241;43m=\u001B[39;49m\u001B[43mover_time_payload\u001B[49m\u001B[43m,\u001B[49m\n\u001B[1;32m    237\u001B[0m \u001B[43m\u001B[49m\u001B[43m)\u001B[49m\n\u001B[1;32m    239\u001B[0m df \u001B[38;5;241m=\u001B[39m pd\u001B[38;5;241m.\u001B[39mDataFrame(req_json[\u001B[38;5;124m'\u001B[39m\u001B[38;5;124mdefault\u001B[39m\u001B[38;5;124m'\u001B[39m][\u001B[38;5;124m'\u001B[39m\u001B[38;5;124mtimelineData\u001B[39m\u001B[38;5;124m'\u001B[39m])\n\u001B[1;32m    240\u001B[0m \u001B[38;5;28;01mif\u001B[39;00m (df\u001B[38;5;241m.\u001B[39mempty):\n",
      "File \u001B[0;32m~/Developer/DE/spark/practice_spark/venv/lib/python3.12/site-packages/pytrends/request.py:159\u001B[0m, in \u001B[0;36mTrendReq._get_data\u001B[0;34m(self, url, method, trim_chars, **kwargs)\u001B[0m\n\u001B[1;32m    157\u001B[0m \u001B[38;5;28;01melse\u001B[39;00m:\n\u001B[1;32m    158\u001B[0m     \u001B[38;5;28;01mif\u001B[39;00m response\u001B[38;5;241m.\u001B[39mstatus_code \u001B[38;5;241m==\u001B[39m status_codes\u001B[38;5;241m.\u001B[39mcodes\u001B[38;5;241m.\u001B[39mtoo_many_requests:\n\u001B[0;32m--> 159\u001B[0m         \u001B[38;5;28;01mraise\u001B[39;00m exceptions\u001B[38;5;241m.\u001B[39mTooManyRequestsError\u001B[38;5;241m.\u001B[39mfrom_response(response)\n\u001B[1;32m    160\u001B[0m     \u001B[38;5;28;01mraise\u001B[39;00m exceptions\u001B[38;5;241m.\u001B[39mResponseError\u001B[38;5;241m.\u001B[39mfrom_response(response)\n",
      "\u001B[0;31mTooManyRequestsError\u001B[0m: The request failed: Google returned a response with code 429"
     ]
    }
   ],
   "source": [],
   "metadata": {
    "collapsed": false
   }
  },
  {
   "cell_type": "code",
   "execution_count": null,
   "outputs": [],
   "source": [],
   "metadata": {
    "collapsed": false
   }
  }
 ],
 "metadata": {
  "kernelspec": {
   "display_name": "Python 3",
   "language": "python",
   "name": "python3"
  },
  "language_info": {
   "codemirror_mode": {
    "name": "ipython",
    "version": 2
   },
   "file_extension": ".py",
   "mimetype": "text/x-python",
   "name": "python",
   "nbconvert_exporter": "python",
   "pygments_lexer": "ipython2",
   "version": "2.7.6"
  }
 },
 "nbformat": 4,
 "nbformat_minor": 0
}
